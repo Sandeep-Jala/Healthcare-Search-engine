{
 "cells": [
  {
   "cell_type": "code",
   "execution_count": 1,
   "metadata": {},
   "outputs": [],
   "source": [
    "import json\n",
    "\n",
    "# Input and output file paths\n",
    "input_file = \"your_file_cleaned.jsonl\"\n",
    "output_file = \"final_Data.jsonl\"\n",
    "\n",
    "# Read, update, and write\n",
    "with open(input_file, \"r\") as infile, open(output_file, \"w\") as outfile:\n",
    "    for new_id, line in enumerate(infile):\n",
    "        record = json.loads(line)  # Parse the JSON line\n",
    "        record[\"ID\"] = new_id\n",
    "        outfile.write(json.dumps(record) + \"\\n\")"
   ]
  },
  {
   "cell_type": "code",
   "execution_count": 9,
   "metadata": {},
   "outputs": [
    {
     "name": "stdout",
     "output_type": "stream",
     "text": [
      "Processing complete. Cleaned JSON lines saved to cleaned_output.jsonl\n",
      "Errors logged to error_log.txt\n"
     ]
    }
   ],
   "source": [
    "import json\n",
    "\n",
    "# Function to clean problematic characters and replace \\n\n",
    "def clean_json_line(line):\n",
    "    return (\n",
    "        line.replace(\"\\\\u2019\", \"'\")  # Replace curly apostrophe\n",
    "            .replace(\"\\\\u2014\", \" \")  # Replace em dash\n",
    "            .replace(\"\\\\u201c\", ' ')  # Replace left double quote\n",
    "            .replace(\"\\\\u201d\", ' ')  # Replace right double quote\n",
    "            .replace(\"\\\\u2713\", \" \")  # Replace checkmark\n",
    "            .replace(\"\\\\u\", \" \")      # Replace any other \\u characters with a space\n",
    "            .replace(\"\\\\n\", \" \")      # Replace \\n with a space\n",
    "    )\n",
    "\n",
    "# File paths\n",
    "input_file_path = 'final_data.jsonl'  # Path to your input JSONL file\n",
    "output_file_path = 'cleaned_output.jsonl'  # Path to save cleaned JSONL file\n",
    "error_log_path = 'error_log.txt'  # Path to save error logs\n",
    "\n",
    "# Open input, output, and error log files\n",
    "with open(input_file_path, 'r', encoding='utf-8') as infile, \\\n",
    "        open(output_file_path, 'w', encoding='utf-8') as outfile, \\\n",
    "        open(error_log_path, 'w', encoding='utf-8') as error_log:\n",
    "    \n",
    "    for line_number, line in enumerate(infile, start=1):\n",
    "        try:\n",
    "            # Clean the line\n",
    "            cleaned_line = clean_json_line(line.strip())\n",
    "            \n",
    "            # Attempt to parse as JSON\n",
    "            json_object = json.loads(cleaned_line)\n",
    "            \n",
    "            # Write the valid JSON object to the output file\n",
    "            outfile.write(json.dumps(json_object) + '\\n')\n",
    "        except json.JSONDecodeError as e:\n",
    "            # Log the error details in the error log\n",
    "            error_log.write(f\"Error parsing line {line_number}: {e}\\nLine content: {line}\\n\")\n",
    "\n",
    "print(f\"Processing complete. Cleaned JSON lines saved to {output_file_path}\")\n",
    "print(f\"Errors logged to {error_log_path}\")\n"
   ]
  },
  {
   "cell_type": "code",
   "execution_count": null,
   "metadata": {},
   "outputs": [],
   "source": []
  }
 ],
 "metadata": {
  "kernelspec": {
   "display_name": "project",
   "language": "python",
   "name": "python3"
  },
  "language_info": {
   "codemirror_mode": {
    "name": "ipython",
    "version": 3
   },
   "file_extension": ".py",
   "mimetype": "text/x-python",
   "name": "python",
   "nbconvert_exporter": "python",
   "pygments_lexer": "ipython3",
   "version": "3.11.7"
  }
 },
 "nbformat": 4,
 "nbformat_minor": 2
}
